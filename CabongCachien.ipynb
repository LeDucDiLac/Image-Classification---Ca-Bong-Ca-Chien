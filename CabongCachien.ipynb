{
  "nbformat": 4,
  "nbformat_minor": 0,
  "metadata": {
    "colab": {
      "provenance": [],
      "gpuType": "T4"
    },
    "kernelspec": {
      "name": "python3",
      "display_name": "Python 3"
    },
    "language_info": {
      "name": "python"
    },
    "accelerator": "GPU"
  },
  "cells": [
    {
      "cell_type": "code",
      "source": [
        "from google.colab import drive\n",
        "drive.mount('/content/drive')\n",
        "!pwd\n",
        "!ls"
      ],
      "metadata": {
        "colab": {
          "base_uri": "https://localhost:8080/"
        },
        "id": "4ptyDCwb67D6",
        "outputId": "afac8824-54e7-429a-966d-567b03115864"
      },
      "execution_count": 2,
      "outputs": [
        {
          "output_type": "stream",
          "name": "stdout",
          "text": [
            "Drive already mounted at /content/drive; to attempt to forcibly remount, call drive.mount(\"/content/drive\", force_remount=True).\n",
            "/content\n",
            "drive  sample_data\n"
          ]
        }
      ]
    },
    {
      "cell_type": "markdown",
      "source": [
        "# Import libraries\n"
      ],
      "metadata": {
        "id": "uls5yc0h62My"
      }
    },
    {
      "cell_type": "code",
      "execution_count": 3,
      "metadata": {
        "colab": {
          "base_uri": "https://localhost:8080/"
        },
        "id": "Km4hGAH_RJMT",
        "outputId": "d22101b0-beeb-460b-f91f-27118dc6ec97"
      },
      "outputs": [
        {
          "output_type": "stream",
          "name": "stdout",
          "text": [
            "Collecting torch-kmeans\n",
            "  Downloading torch_kmeans-0.2.0-py3-none-any.whl.metadata (5.4 kB)\n",
            "Requirement already satisfied: numpy>=1.18 in /usr/local/lib/python3.10/dist-packages (from torch-kmeans) (1.26.4)\n",
            "Requirement already satisfied: torch>=1.08 in /usr/local/lib/python3.10/dist-packages (from torch-kmeans) (2.4.1+cu121)\n",
            "Requirement already satisfied: filelock in /usr/local/lib/python3.10/dist-packages (from torch>=1.08->torch-kmeans) (3.16.1)\n",
            "Requirement already satisfied: typing-extensions>=4.8.0 in /usr/local/lib/python3.10/dist-packages (from torch>=1.08->torch-kmeans) (4.12.2)\n",
            "Requirement already satisfied: sympy in /usr/local/lib/python3.10/dist-packages (from torch>=1.08->torch-kmeans) (1.13.3)\n",
            "Requirement already satisfied: networkx in /usr/local/lib/python3.10/dist-packages (from torch>=1.08->torch-kmeans) (3.3)\n",
            "Requirement already satisfied: jinja2 in /usr/local/lib/python3.10/dist-packages (from torch>=1.08->torch-kmeans) (3.1.4)\n",
            "Requirement already satisfied: fsspec in /usr/local/lib/python3.10/dist-packages (from torch>=1.08->torch-kmeans) (2024.6.1)\n",
            "Requirement already satisfied: MarkupSafe>=2.0 in /usr/local/lib/python3.10/dist-packages (from jinja2->torch>=1.08->torch-kmeans) (2.1.5)\n",
            "Requirement already satisfied: mpmath<1.4,>=1.1.0 in /usr/local/lib/python3.10/dist-packages (from sympy->torch>=1.08->torch-kmeans) (1.3.0)\n",
            "Downloading torch_kmeans-0.2.0-py3-none-any.whl (24 kB)\n",
            "Installing collected packages: torch-kmeans\n",
            "Successfully installed torch-kmeans-0.2.0\n",
            "Using cuda device\n",
            "Sat Oct  5 06:48:45 2024       \n",
            "+---------------------------------------------------------------------------------------+\n",
            "| NVIDIA-SMI 535.104.05             Driver Version: 535.104.05   CUDA Version: 12.2     |\n",
            "|-----------------------------------------+----------------------+----------------------+\n",
            "| GPU  Name                 Persistence-M | Bus-Id        Disp.A | Volatile Uncorr. ECC |\n",
            "| Fan  Temp   Perf          Pwr:Usage/Cap |         Memory-Usage | GPU-Util  Compute M. |\n",
            "|                                         |                      |               MIG M. |\n",
            "|=========================================+======================+======================|\n",
            "|   0  Tesla T4                       Off | 00000000:00:04.0 Off |                    0 |\n",
            "| N/A   38C    P8               9W /  70W |      3MiB / 15360MiB |      0%      Default |\n",
            "|                                         |                      |                  N/A |\n",
            "+-----------------------------------------+----------------------+----------------------+\n",
            "                                                                                         \n",
            "+---------------------------------------------------------------------------------------+\n",
            "| Processes:                                                                            |\n",
            "|  GPU   GI   CI        PID   Type   Process name                            GPU Memory |\n",
            "|        ID   ID                                                             Usage      |\n",
            "|=======================================================================================|\n",
            "|  No running processes found                                                           |\n",
            "+---------------------------------------------------------------------------------------+\n"
          ]
        }
      ],
      "source": [
        "!pip install torch-kmeans\n",
        "import numpy as np\n",
        "import json\n",
        "import os\n",
        "from matplotlib import pyplot as plt\n",
        "from torch.utils.data import Dataset,DataLoader\n",
        "import cv2\n",
        "import torch\n",
        "from torch_kmeans import KMeans\n",
        "from torch import nn\n",
        "import random\n",
        "%matplotlib inline\n",
        "\n",
        "device = (\n",
        "    \"cuda\"\n",
        "    if torch.cuda.is_available()\n",
        "    else \"mps\"\n",
        "    if torch.backends.mps.is_available()\n",
        "    else \"cpu\"\n",
        ")\n",
        "\n",
        "print(f\"Using {device} device\")\n",
        "!nvidia-smi"
      ]
    },
    {
      "cell_type": "markdown",
      "source": [
        "# Load the data folder"
      ],
      "metadata": {
        "id": "qKBbyeYEUegT"
      }
    },
    {
      "cell_type": "code",
      "source": [
        "DIR = './drive/MyDrive'\n",
        "DATASET_FOLDER = 'CabongCachienDataset_COCO'\n",
        "JSON_PATH = 'result.json'\n",
        "json_file_path = os.path.join(DIR,DATASET_FOLDER,JSON_PATH)\n",
        "dataset_path = os.path.join(DIR,DATASET_FOLDER)\n",
        "json_file = open(json_file_path,\"r\")\n",
        "strDict = json_file.read()\n",
        "dataDict = json.loads(strDict)\n",
        "annoDictList = dataDict['annotations']\n",
        "imgDictList = dataDict['images']\n",
        "print(\"Dataset Length:\", len(annoDictList))\n",
        "print(\"Number of images:\", len(imgDictList))"
      ],
      "metadata": {
        "id": "Ivy0ZKQ4TDkH",
        "colab": {
          "base_uri": "https://localhost:8080/"
        },
        "outputId": "2946f942-1eb6-46f8-b933-b07055775c48"
      },
      "execution_count": 4,
      "outputs": [
        {
          "output_type": "stream",
          "name": "stdout",
          "text": [
            "Dataset Length: 499\n",
            "Number of images: 459\n"
          ]
        }
      ]
    },
    {
      "cell_type": "markdown",
      "source": [
        "# Process images"
      ],
      "metadata": {
        "id": "wobCaZIyUnp2"
      }
    },
    {
      "cell_type": "code",
      "source": [
        "IMG_SIZE = (100, 50)\n",
        "IMG_SIZE_TENSOR = (IMG_SIZE[1],IMG_SIZE[0])\n",
        "FRAGMENTS = [0,0.5,0.5]\n",
        "\n",
        "def crop_Resize(bbox,img,frag = FRAGMENTS):\n",
        "    x, y, w, h = [ int(t) for t in bbox]\n",
        "    img = img[y : (y + h), x : (x + w)]\n",
        "    img = cv2.resize(img, IMG_SIZE)\n",
        "    #change it to one channel\n",
        "    new_vector = img[:,:,0] * frag[0] + img[:,:,1] * frag[1] + img[:,:,2] * frag[2]\n",
        "    return new_vector"
      ],
      "metadata": {
        "id": "0YhoMu9WRWOV"
      },
      "execution_count": 5,
      "outputs": []
    },
    {
      "cell_type": "markdown",
      "source": [
        "# Define Dataset class"
      ],
      "metadata": {
        "id": "tZqWQW61Rg4s"
      }
    },
    {
      "cell_type": "code",
      "source": [
        "class CocoData(Dataset):\n",
        "    def __init__(self,imgList,annoList,fr=FRAGMENTS):\n",
        "        self.x = torch.zeros((len(annoList),IMG_SIZE[0] * IMG_SIZE[1]),device=device)\n",
        "        self.y = torch.zeros(len(annoList),device=device)\n",
        "        for i,dict in enumerate(annoList):\n",
        "            img_id = dict['image_id']\n",
        "            bbox = dict['bbox']\n",
        "            temp = imgList[img_id]['file_name']\n",
        "            img_path = os.path.join(dataset_path,temp)\n",
        "            img_oj = cv2.imread(img_path)\n",
        "            img = crop_Resize(bbox,img_oj,frag = fr)\n",
        "            tempX = torch.tensor(img)\n",
        "            self.x[i, :] = (torch.flatten(tempX))\n",
        "            self.y[i] = dict['category_id']\n",
        "            self.x = nn.functional.normalize(self.x,dim = 1)\n",
        "    def __len__(self):\n",
        "        return self.x.shape[0]\n",
        "\n",
        "    def __getitem__(self, index):\n",
        "        return self.x[index, :], self.y[index]\n",
        "\n",
        "TRAINING_DATA_END_POINT = 400\n",
        "Shuf = True\n",
        "\n",
        "if Shuf:\n",
        "  random.shuffle(annoDictList)\n",
        "training_data = CocoData(imgDictList,annoDictList[:TRAINING_DATA_END_POINT])\n",
        "test_data = CocoData(imgDictList,annoDictList[TRAINING_DATA_END_POINT:])"
      ],
      "metadata": {
        "id": "4IqUCeTcRwMV"
      },
      "execution_count": 7,
      "outputs": []
    },
    {
      "cell_type": "markdown",
      "source": [
        "# Try K - Means\n"
      ],
      "metadata": {
        "id": "qybxzX1mVflW"
      }
    },
    {
      "cell_type": "code",
      "source": [
        "kmeans_train = DataLoader(dataset=training_data,batch_size=len(training_data),shuffle = True)\n",
        "kmeans_model = KMeans(n_clusters=2)\n",
        "x,y = next(iter(kmeans_train))\n",
        "x = x.view((1,len(training_data),IMG_SIZE[0]*IMG_SIZE[1]))\n",
        "model = kmeans_model.fit(x)\n",
        "y_hat = model.predict(x)\n",
        "accuracy = (((y == y_hat).sum())/len(training_data)).item()\n",
        "reverse_predict = False\n",
        "if accuracy < 1 - accuracy:\n",
        "    reverse_predict = True\n",
        "    accuracy = 1 - accuracy\n",
        "print(\"Accuracy (K-Means - Train):\",accuracy)\n",
        "\n",
        "\n",
        "\n",
        "\n",
        "kmeans_test = DataLoader(dataset=test_data,batch_size=len(test_data),shuffle = True)\n",
        "x,y = next(iter(kmeans_test))\n",
        "x = x.view((1,len(test_data),IMG_SIZE[0]*IMG_SIZE[1]))\n",
        "y_hat = model.predict(x)\n",
        "accuracy = (((y == y_hat).sum())/len(test_data)).item()\n",
        "if reverse_predict:\n",
        "    y_hat = 1 - y_hat\n",
        "    accuracy = 1 - accuracy\n",
        "print(\"Accuracy (K-Means - Test):\",accuracy)"
      ],
      "metadata": {
        "id": "f3a8v8gdVirz",
        "colab": {
          "base_uri": "https://localhost:8080/"
        },
        "outputId": "5070960f-2b58-48f5-b92f-1a77d02b1593"
      },
      "execution_count": 8,
      "outputs": [
        {
          "output_type": "stream",
          "name": "stdout",
          "text": [
            "Full batch converged at iteration 8/100 with center shifts = tensor([0.], device='cuda:0').\n",
            "Accuracy (K-Means - Train): 0.8624999523162842\n",
            "Accuracy (K-Means - Test): 0.868686854839325\n"
          ]
        }
      ]
    },
    {
      "cell_type": "markdown",
      "source": [
        "# Fine tune the FRAGMENTS params"
      ],
      "metadata": {
        "id": "WPBWBFPZWSgQ"
      }
    },
    {
      "cell_type": "code",
      "source": [
        "def findFrag(iterations):\n",
        "    accu = []\n",
        "    maxaccu = 0.5\n",
        "    maxlist = [0.25,0.25,0.5]\n",
        "    for i in range(iterations):\n",
        "        for j in range(iterations - 1 - i):\n",
        "            a = i/iterations\n",
        "            b = j/iterations\n",
        "            c = 1 - a - b\n",
        "            tData = DataLoader(training_data,batch_size=len(training_data))\n",
        "            x,y = next(iter(tData))\n",
        "            x = x.view((1,len(training_data),IMG_SIZE[0]*IMG_SIZE[1]))\n",
        "            model = kmeans_model.fit(x)\n",
        "\n",
        "            kmeans_test = DataLoader(dataset=test_data,batch_size=len(test_data))\n",
        "            x,y = next(iter(kmeans_test))\n",
        "            x = x.view((1,len(test_data),IMG_SIZE[0]*IMG_SIZE[1]))\n",
        "            y_hat = model.predict(x)\n",
        "            accuracy = (((y == y_hat).sum())/len(test_data)).item()\n",
        "            reverse_predict = False\n",
        "            if accuracy < 1 - accuracy:\n",
        "                reverse_predict = True\n",
        "                accuracy = 1 - accuracy\n",
        "            accu.append(accuracy)\n",
        "            if (maxaccu < accuracy ):\n",
        "                maxaccu = accuracy\n",
        "                maxlist = [a,b,c]\n",
        "    return accu, maxaccu, maxlist\n",
        "\n",
        "A,maxA,frags = findFrag(10)\n",
        "plt.plot(A)\n",
        "plt.show()\n",
        "print(\"K-Means best training accuracy:\",maxA)\n",
        "print(\"given by fragment:\", frags)"
      ],
      "metadata": {
        "id": "XZiFwsFqWYwN",
        "colab": {
          "base_uri": "https://localhost:8080/",
          "height": 1000
        },
        "outputId": "d85fc45c-63c4-4779-8e7f-bd1cf04cdc0a"
      },
      "execution_count": 9,
      "outputs": [
        {
          "output_type": "stream",
          "name": "stdout",
          "text": [
            "Full batch converged at iteration 9/100 with center shifts = tensor([0.], device='cuda:0').\n",
            "Full batch converged at iteration 9/100 with center shifts = tensor([0.], device='cuda:0').\n",
            "Full batch converged at iteration 9/100 with center shifts = tensor([0.], device='cuda:0').\n",
            "Full batch converged at iteration 9/100 with center shifts = tensor([0.], device='cuda:0').\n",
            "Full batch converged at iteration 9/100 with center shifts = tensor([0.], device='cuda:0').\n",
            "Full batch converged at iteration 9/100 with center shifts = tensor([0.], device='cuda:0').\n",
            "Full batch converged at iteration 9/100 with center shifts = tensor([0.], device='cuda:0').\n",
            "Full batch converged at iteration 9/100 with center shifts = tensor([0.], device='cuda:0').\n",
            "Full batch converged at iteration 9/100 with center shifts = tensor([0.], device='cuda:0').\n",
            "Full batch converged at iteration 9/100 with center shifts = tensor([0.], device='cuda:0').\n",
            "Full batch converged at iteration 9/100 with center shifts = tensor([0.], device='cuda:0').\n",
            "Full batch converged at iteration 9/100 with center shifts = tensor([0.], device='cuda:0').\n",
            "Full batch converged at iteration 9/100 with center shifts = tensor([0.], device='cuda:0').\n",
            "Full batch converged at iteration 9/100 with center shifts = tensor([0.], device='cuda:0').\n",
            "Full batch converged at iteration 9/100 with center shifts = tensor([0.], device='cuda:0').\n",
            "Full batch converged at iteration 9/100 with center shifts = tensor([0.], device='cuda:0').\n",
            "Full batch converged at iteration 9/100 with center shifts = tensor([0.], device='cuda:0').\n",
            "Full batch converged at iteration 9/100 with center shifts = tensor([0.], device='cuda:0').\n",
            "Full batch converged at iteration 9/100 with center shifts = tensor([0.], device='cuda:0').\n",
            "Full batch converged at iteration 9/100 with center shifts = tensor([0.], device='cuda:0').\n",
            "Full batch converged at iteration 9/100 with center shifts = tensor([0.], device='cuda:0').\n",
            "Full batch converged at iteration 9/100 with center shifts = tensor([0.], device='cuda:0').\n",
            "Full batch converged at iteration 9/100 with center shifts = tensor([0.], device='cuda:0').\n",
            "Full batch converged at iteration 9/100 with center shifts = tensor([0.], device='cuda:0').\n",
            "Full batch converged at iteration 9/100 with center shifts = tensor([0.], device='cuda:0').\n",
            "Full batch converged at iteration 9/100 with center shifts = tensor([0.], device='cuda:0').\n",
            "Full batch converged at iteration 9/100 with center shifts = tensor([0.], device='cuda:0').\n",
            "Full batch converged at iteration 9/100 with center shifts = tensor([0.], device='cuda:0').\n",
            "Full batch converged at iteration 9/100 with center shifts = tensor([0.], device='cuda:0').\n",
            "Full batch converged at iteration 9/100 with center shifts = tensor([0.], device='cuda:0').\n",
            "Full batch converged at iteration 9/100 with center shifts = tensor([0.], device='cuda:0').\n",
            "Full batch converged at iteration 9/100 with center shifts = tensor([0.], device='cuda:0').\n",
            "Full batch converged at iteration 9/100 with center shifts = tensor([0.], device='cuda:0').\n",
            "Full batch converged at iteration 9/100 with center shifts = tensor([0.], device='cuda:0').\n",
            "Full batch converged at iteration 9/100 with center shifts = tensor([0.], device='cuda:0').\n",
            "Full batch converged at iteration 9/100 with center shifts = tensor([0.], device='cuda:0').\n",
            "Full batch converged at iteration 9/100 with center shifts = tensor([0.], device='cuda:0').\n",
            "Full batch converged at iteration 9/100 with center shifts = tensor([0.], device='cuda:0').\n",
            "Full batch converged at iteration 9/100 with center shifts = tensor([0.], device='cuda:0').\n",
            "Full batch converged at iteration 9/100 with center shifts = tensor([0.], device='cuda:0').\n",
            "Full batch converged at iteration 9/100 with center shifts = tensor([0.], device='cuda:0').\n",
            "Full batch converged at iteration 9/100 with center shifts = tensor([0.], device='cuda:0').\n",
            "Full batch converged at iteration 9/100 with center shifts = tensor([0.], device='cuda:0').\n",
            "Full batch converged at iteration 9/100 with center shifts = tensor([0.], device='cuda:0').\n",
            "Full batch converged at iteration 9/100 with center shifts = tensor([0.], device='cuda:0').\n"
          ]
        },
        {
          "output_type": "display_data",
          "data": {
            "text/plain": [
              "<Figure size 640x480 with 1 Axes>"
            ],
            "image/png": "[encoded data removed]"
          },
          "metadata": {}
        },
        {
          "output_type": "stream",
          "name": "stdout",
          "text": [
            "K-Means best training accuracy: 0.8686868697404861\n",
            "given by fragment: [0.0, 0.0, 1.0]\n"
          ]
        }
      ]
    },
    {
      "cell_type": "markdown",
      "source": [
        "# Define Logistic Regression Model\n"
      ],
      "metadata": {
        "id": "AadVoTMWXeGX"
      }
    },
    {
      "cell_type": "code",
      "source": [
        "class LogisticModel(nn.Module):\n",
        "    def __init__(self,i):\n",
        "        super().__init__()\n",
        "        self.ln = nn.Linear(i,1,device=device)\n",
        "        self.sm = nn.Sigmoid()\n",
        "    def forward(self,x):\n",
        "        x = self.ln(x.reshape(-1,x.shape[1]))\n",
        "        x = self.sm(x)\n",
        "        return x\n",
        "\n",
        "criterion = nn.BCELoss()\n",
        "model = LogisticModel(IMG_SIZE[0]*IMG_SIZE[1])\n",
        "learning_rate = 0.7\n",
        "optimizer = torch.optim.SGD(model.parameters(), lr = learning_rate)\n",
        "new_train = DataLoader(training_data,batch_size=50,shuffle=True)\n",
        "valid_data = DataLoader(test_data,shuffle = True)\n",
        "\n",
        "def training_logistic(epochs):\n",
        "    LOSS = []\n",
        "    for epoch in range(epochs):\n",
        "        total_loss = 0\n",
        "        for x,y in new_train:\n",
        "            optimizer.zero_grad()\n",
        "            y_hat = model(x)\n",
        "            y = y.view(-1, 1)\n",
        "            loss = criterion(y_hat,y)\n",
        "            loss.backward()\n",
        "            optimizer.step()\n",
        "            total_loss+= loss.item()\n",
        "        LOSS.append(total_loss/len(training_data))\n",
        "    return LOSS\n"
      ],
      "metadata": {
        "id": "aSeW4bOwXjLF"
      },
      "execution_count": 18,
      "outputs": []
    },
    {
      "cell_type": "markdown",
      "source": [
        "#Train Logistic Model and Show the result"
      ],
      "metadata": {
        "id": "tp8BRB4vYl4u"
      }
    },
    {
      "cell_type": "code",
      "source": [
        "epochs = 1000\n",
        "L = training_logistic(epochs)\n",
        "plt.plot(L)\n",
        "plt.show()\n",
        "\n",
        "thres = 0.5\n",
        "with torch.no_grad():\n",
        "    x,y = training_data[:]\n",
        "    y = y.view(-1, 1)\n",
        "    y_hat = model(x)\n",
        "    y_hat = torch.where(y_hat > thres, 1,0)\n",
        "    ac = ((y==y_hat).sum()/(y.shape[0])).item()\n",
        "print(\"Accuracy (Logistic - Train):\", ac)\n",
        "\n",
        "with torch.no_grad():\n",
        "    x,y = test_data[:]\n",
        "    y = y.view(-1, 1)\n",
        "    y_hat = model(x)\n",
        "    y_hat = torch.where(y_hat > thres, 1,0)\n",
        "    ac = ((y==y_hat).sum()/(y.shape[0])).item()\n",
        "print(\"Accuracy (Logistic - Test):\", ac)"
      ],
      "metadata": {
        "id": "AYNuqf7UYpyg",
        "colab": {
          "base_uri": "https://localhost:8080/",
          "height": 465
        },
        "outputId": "32f75d00-2df6-4ce1-fe16-a479621bc9c8"
      },
      "execution_count": 19,
      "outputs": [
        {
          "output_type": "display_data",
          "data": {
            "text/plain": [
              "<Figure size 640x480 with 1 Axes>"
            ],
            "image/png": "[encoded data removed]"
          },
          "metadata": {}
        },
        {
          "output_type": "stream",
          "name": "stdout",
          "text": [
            "Accuracy (Logistic - Train): 0.9424999952316284\n",
            "Accuracy (Logistic - Test): 0.9292929172515869\n"
          ]
        }
      ]
    },
    {
      "cell_type": "markdown",
      "source": [],
      "metadata": {
        "id": "2vycQwH46zmW"
      }
    }
  ]
}